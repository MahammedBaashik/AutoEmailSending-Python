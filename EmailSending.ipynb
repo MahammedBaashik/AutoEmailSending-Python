{
 "cells": [
  {
   "cell_type": "code",
   "execution_count": 10,
   "id": "8f3a5118",
   "metadata": {},
   "outputs": [
    {
     "name": "stdout",
     "output_type": "stream",
     "text": [
      "Enter recipient's email: snehalathanandikolamath@gmail.com\n",
      "Enter email subject: Regarding internship\n",
      "Enter email message: You are selected\n",
      "Enter image URL: https://drive.google.com/file/d/19brPIm6TdCbYMj8rtI8fkeCQJP5hwRBv/view?usp=drive_link\n",
      "Email sent successfully!\n"
     ]
    }
   ],
   "source": [
    "import smtplib\n",
    "from email.mime.text import MIMEText\n",
    "from email.mime.multipart import MIMEMultipart\n",
    "\n",
    "def send_email(sender_email, sender_password):\n",
    "    smtp_server = 'smtp.gmail.com'\n",
    "    smtp_port = 587\n",
    "\n",
    "    recipient_email = input(\"Enter recipient's email: \")\n",
    "    subject = input(\"Enter email subject: \")\n",
    "    message = input(\"Enter email message: \")\n",
    "    image_url = input(\"Enter image URL: \")\n",
    "\n",
    "    # Create a secure connection to the SMTP server\n",
    "    server = smtplib.SMTP(smtp_server, smtp_port)\n",
    "    server.starttls()\n",
    "\n",
    "    try:\n",
    "        # Login to the email account using an application-specific password\n",
    "        server.login(sender_email, sender_password)\n",
    "\n",
    "        # Compose the email\n",
    "        email = MIMEMultipart()\n",
    "        email['From'] = sender_email\n",
    "        email['To'] = recipient_email\n",
    "        email['Subject'] = subject\n",
    "\n",
    "        # Create the HTML content\n",
    "        html_content = f\"\"\"\n",
    "        <html>\n",
    "            <head>\n",
    "                <style>\n",
    "                    h2 {{ color: blue; }}\n",
    "                    p {{ color: green; }}\n",
    "                </style>\n",
    "            </head>\n",
    "            <body>\n",
    "                <h2><strong>{subject}</strong></h2>\n",
    "                <p><strong>{message}</strong></p>\n",
    "                <img src=\"{image_url}\" alt=\"Image\" style=\"width:300px;height:200px;\">\n",
    "            </body>\n",
    "        </html>\n",
    "        \"\"\"\n",
    "\n",
    "        # Attach the HTML content\n",
    "        email.attach(MIMEText(html_content, 'html'))\n",
    "\n",
    "        # Send the email\n",
    "        server.sendmail(sender_email, recipient_email, email.as_string())\n",
    "        print('Email sent successfully!')\n",
    "    except Exception as e:\n",
    "        print('Error sending email:', str(e))\n",
    "    finally:\n",
    "        # Close the connection\n",
    "        server.quit()\n",
    "\n",
    "# Example usage\n",
    "sender_email = 'baachi172406@gmail.com'\n",
    "sender_password = 'kdrgeurjupsvkzva'\n",
    "\n",
    "send_email(sender_email, sender_password)\n"
   ]
  }
 ],
 "metadata": {
  "kernelspec": {
   "display_name": "Python 3 (ipykernel)",
   "language": "python",
   "name": "python3"
  },
  "language_info": {
   "codemirror_mode": {
    "name": "ipython",
    "version": 3
   },
   "file_extension": ".py",
   "mimetype": "text/x-python",
   "name": "python",
   "nbconvert_exporter": "python",
   "pygments_lexer": "ipython3",
   "version": "3.9.13"
  }
 },
 "nbformat": 4,
 "nbformat_minor": 5
}
